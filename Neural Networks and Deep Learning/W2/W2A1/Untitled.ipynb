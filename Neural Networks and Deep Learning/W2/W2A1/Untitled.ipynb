{
 "cells": [
  {
   "cell_type": "code",
   "execution_count": 2,
   "metadata": {},
   "outputs": [
    {
     "name": "stdout",
     "output_type": "stream",
     "text": [
      "tar: Removing leading `../' from member names\n",
      "../W2A1/\n",
      "../W2A1/public_tests.py\n",
      "../W2A1/.hidden\n",
      "../W2A1/.ipynb_checkpoints/\n",
      "../W2A1/.ipynb_checkpoints/Untitled-checkpoint.ipynb\n",
      "../W2A1/.ipynb_checkpoints/Python_Basics_with_Numpy-checkpoint.ipynb\n",
      "../W2A1/images/\n",
      "../W2A1/images/image2vector_kiank.png\n",
      "../W2A1/images/image2vector.png\n",
      "../W2A1/images/Sigmoid.png\n",
      "../W2A1/Untitled.ipynb\n",
      "../W2A1/__pycache__/\n",
      "../W2A1/__pycache__/test_utils.cpython-37.pyc\n",
      "../W2A1/__pycache__/public_tests.cpython-37.pyc\n",
      "../W2A1/Python_Basics_with_Numpy.ipynb\n",
      "../W2A1/notebook.tar.gz\n",
      "tar: ../W2A1/notebook.tar.gz: file changed as we read it\n",
      "../W2A1/test_utils.py\n",
      "../W2A2/\n",
      "../W2A2/public_tests.py\n",
      "../W2A2/.hidden\n",
      "../W2A2/.ipynb_checkpoints/\n",
      "../W2A2/.ipynb_checkpoints/Logistic_Regression_with_a_Neural_Network_mindset-checkpoint.ipynb\n",
      "../W2A2/images/\n",
      "../W2A2/images/LogReg_kiank.png\n",
      "../W2A2/images/image2.png\n",
      "../W2A2/images/gargouille.jpg\n",
      "../W2A2/images/cat_in_iran.jpg\n",
      "../W2A2/images/my_image2.jpg\n",
      "../W2A2/images/la_defense.jpg\n",
      "../W2A2/images/my_image.jpg\n",
      "../W2A2/images/image1.png\n",
      "../W2A2/datasets/\n",
      "../W2A2/datasets/train_catvnoncat.h5\n",
      "../W2A2/datasets/test_catvnoncat.h5\n",
      "../W2A2/__pycache__/\n",
      "../W2A2/__pycache__/lr_utils.cpython-37.pyc\n",
      "../W2A2/__pycache__/public_tests.cpython-37.pyc\n",
      "../W2A2/lr_utils.py\n",
      "../W2A2/Logistic_Regression_with_a_Neural_Network_mindset.ipynb\n"
     ]
    }
   ],
   "source": [
    "!tar chvfz notebook.tar.gz ../*\n"
   ]
  },
  {
   "cell_type": "code",
   "execution_count": 3,
   "metadata": {},
   "outputs": [
    {
     "name": "stdout",
     "output_type": "stream",
     "text": [
      "tar: ..../*: Cannot stat: No such file or directory\r\n",
      "tar: Exiting with failure status due to previous errors\r\n"
     ]
    }
   ],
   "source": [
    "!tar chvfz notebook.tar.gz ../*\n"
   ]
  }
 ],
 "metadata": {
  "kernelspec": {
   "display_name": "Python 3",
   "language": "python",
   "name": "python3"
  },
  "language_info": {
   "codemirror_mode": {
    "name": "ipython",
    "version": 3
   },
   "file_extension": ".py",
   "mimetype": "text/x-python",
   "name": "python",
   "nbconvert_exporter": "python",
   "pygments_lexer": "ipython3",
   "version": "3.7.6"
  }
 },
 "nbformat": 4,
 "nbformat_minor": 4
}
